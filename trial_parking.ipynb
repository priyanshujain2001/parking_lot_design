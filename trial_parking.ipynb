{
 "cells": [
  {
   "cell_type": "code",
   "execution_count": 82,
   "metadata": {},
   "outputs": [],
   "source": [
    "# def generate_user_data(num_tickets):\n",
    "#     ticket_ids = range(1, num_tickets+1)\n",
    "#     user_ids = [1000 + i for i in range(num_tickets)]  # Assuming user IDs start from 1001\n",
    "#     vehicle_types = ['Car', 'Motorcycle', 'Van', 'Truck']  # Add more vehicle types if needed\n",
    "\n",
    "#     data = {\n",
    "#         'user_id': user_ids,\n",
    "#         \"amount\": [random.choice([100,500,1000,200,700]) for _ in range(num_tickets)]\n",
    "#     }\n",
    "\n",
    "#     return pd.DataFrame(data)\n",
    "\n",
    "# # Generate 10 parking tickets\n",
    "# num_tickets = 10\n",
    "# user_data = generate_user_data(10)"
   ]
  },
  {
   "cell_type": "code",
   "execution_count": 3,
   "metadata": {},
   "outputs": [
    {
     "name": "stdout",
     "output_type": "stream",
     "text": [
      "QR Code saved at: src\\qr_codes\\user_id_1016.png\n"
     ]
    },
    {
     "data": {
      "text/plain": [
       "(1016, None)"
      ]
     },
     "execution_count": 3,
     "metadata": {},
     "output_type": "execute_result"
    }
   ],
   "source": [
    "from src.admin import Admin\n",
    "a= Admin()\n",
    "a.add_new_user(\"celestial\", \"celestial@gmail.com\",9413189761, 100)"
   ]
  },
  {
   "cell_type": "code",
   "execution_count": 7,
   "metadata": {},
   "outputs": [],
   "source": [
    "from src.slots import Slots \n",
    "from src.parking_gate_system import ParkingGateSystem\n",
    "from src.user import User\n",
    "class ParkingLot:\n",
    "    def __init__(self):\n",
    "        self.slot_manager = Slots()\n",
    "        self.gate_system = ParkingGateSystem()\n",
    "\n",
    "    def park_vehicle(self, user_id, vehicle_type):\n",
    "        ticket_id = self.gate_system.create_new_ticket(user_id, vehicle_type)\n",
    "        return ticket_id\n",
    "\n",
    "    def leave_parking(self, ticket_id):\n",
    "        price = self.gate_system.add_out_time(ticket_id)\n",
    "        return price\n",
    "\n",
    "    def get_available_slots(self):\n",
    "        return self.slot_manager.return_all_available_slots()\n",
    "\n",
    "    def add_user_balance(self, user_id, amount):\n",
    "        user = User(user_id)\n",
    "        user.add_balance(amount)\n",
    "    def check_user_balance(self, user_id):\n",
    "        user = User(user_id)\n",
    "        return user.get_balance()\n",
    "\n"
   ]
  },
  {
   "cell_type": "code",
   "execution_count": 8,
   "metadata": {},
   "outputs": [
    {
     "data": {
      "text/plain": [
       "790"
      ]
     },
     "execution_count": 8,
     "metadata": {},
     "output_type": "execute_result"
    }
   ],
   "source": [
    "p= ParkingLot()\n",
    "p.check_user_balance(1001)"
   ]
  },
  {
   "cell_type": "code",
   "execution_count": 6,
   "metadata": {},
   "outputs": [
    {
     "data": {
      "text/plain": [
       "[(1000,),\n",
       " (1001,),\n",
       " (1002,),\n",
       " (1003,),\n",
       " (1004,),\n",
       " (1005,),\n",
       " (1006,),\n",
       " (1007,),\n",
       " (1008,),\n",
       " (1009,),\n",
       " (1010,),\n",
       " (1011,),\n",
       " (1014,)]"
      ]
     },
     "execution_count": 6,
     "metadata": {},
     "output_type": "execute_result"
    }
   ],
   "source": [
    "from paths import * \n",
    "import sqlite3\n",
    "users_db = sqlite3.connect(users_db_path)\n",
    "cursor_users = users_db.cursor()\n",
    "cursor_users.execute(\"SELECT user_id from user_data\")\n",
    "cursor_users.fetchall()"
   ]
  }
 ],
 "metadata": {
  "kernelspec": {
   "display_name": "Python 3",
   "language": "python",
   "name": "python3"
  },
  "language_info": {
   "codemirror_mode": {
    "name": "ipython",
    "version": 3
   },
   "file_extension": ".py",
   "mimetype": "text/x-python",
   "name": "python",
   "nbconvert_exporter": "python",
   "pygments_lexer": "ipython3",
   "version": "3.11.9"
  }
 },
 "nbformat": 4,
 "nbformat_minor": 2
}
